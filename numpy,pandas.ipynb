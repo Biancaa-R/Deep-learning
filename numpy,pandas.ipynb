{
 "cells": [
  {
   "cell_type": "markdown",
   "metadata": {},
   "source": [
    "Numpy"
   ]
  },
  {
   "cell_type": "code",
   "execution_count": 2,
   "metadata": {},
   "outputs": [
    {
     "name": "stdout",
     "output_type": "stream",
     "text": [
      "[1 2 3 4 5]\n",
      "<class 'numpy.ndarray'>\n"
     ]
    }
   ],
   "source": [
    "#Declare a list\n",
    "list1=[1,2,3,4,5]\n",
    "import numpy as np\n",
    "arr=np.array(list1)\n",
    "print(arr)\n",
    "print(type(arr))\n",
    "#All the data in the list should be of the same datatype"
   ]
  },
  {
   "cell_type": "code",
   "execution_count": 3,
   "metadata": {},
   "outputs": [
    {
     "name": "stdout",
     "output_type": "stream",
     "text": [
      "[[1 2 3]\n",
      " [4 5 6]\n",
      " [7 8 9]]\n",
      "[[1 2 3]\n",
      " [4 5 6]\n",
      " [7 8 9]]\n"
     ]
    }
   ],
   "source": [
    "list2=[[1,2,3],[4,5,6],[7,8,9]]\n",
    "matrix=np.array(list2)\n",
    "print(matrix)\n",
    "\n",
    "matrice=np.arange(1,10)\n",
    "matrice.resize(3,3)\n",
    "print(matrice)"
   ]
  },
  {
   "cell_type": "code",
   "execution_count": 4,
   "metadata": {},
   "outputs": [
    {
     "name": "stdout",
     "output_type": "stream",
     "text": [
      "[[11 14 17]\n",
      " [20 23 26]\n",
      " [29 32 35]]\n"
     ]
    }
   ],
   "source": [
    "matrix=np.arange(11,38,3).reshape(3,3)\n",
    "print(matrix)"
   ]
  },
  {
   "cell_type": "code",
   "execution_count": 5,
   "metadata": {},
   "outputs": [
    {
     "name": "stdout",
     "output_type": "stream",
     "text": [
      "[[ 0.  1.  2.  3.  4.  5.  6.]\n",
      " [ 7.  8.  9. 10. 11. 12. 13.]\n",
      " [14. 15. 16. 17. 18. 19. 20.]]\n"
     ]
    },
    {
     "data": {
      "text/plain": [
       "numpy.float64"
      ]
     },
     "execution_count": 5,
     "metadata": {},
     "output_type": "execute_result"
    }
   ],
   "source": [
    "#lenspace takes standard deviation too, +quantity of data elements to be print\n",
    "matrice=np.linspace(0,20,21).reshape(3,7)\n",
    "print(matrice)\n",
    "type(matrice[0][0])"
   ]
  },
  {
   "cell_type": "code",
   "execution_count": 6,
   "metadata": {},
   "outputs": [
    {
     "data": {
      "text/plain": [
       "array([[1., 1., 1.],\n",
       "       [1., 1., 1.],\n",
       "       [1., 1., 1.]])"
      ]
     },
     "execution_count": 6,
     "metadata": {},
     "output_type": "execute_result"
    }
   ],
   "source": [
    "matrice_3=np.ones([3,3])\n",
    "matrice_3"
   ]
  },
  {
   "cell_type": "code",
   "execution_count": 7,
   "metadata": {},
   "outputs": [
    {
     "data": {
      "text/plain": [
       "numpy.float64"
      ]
     },
     "execution_count": 7,
     "metadata": {},
     "output_type": "execute_result"
    }
   ],
   "source": [
    "matrice_3=np.zeros([3,3])\n",
    "type(matrice_3[0][0])\n",
    "#By default the data created is floating point"
   ]
  },
  {
   "cell_type": "code",
   "execution_count": 8,
   "metadata": {},
   "outputs": [
    {
     "name": "stdout",
     "output_type": "stream",
     "text": [
      "[[1. 0. 0.]\n",
      " [0. 1. 0.]\n",
      " [0. 0. 1.]]\n"
     ]
    }
   ],
   "source": [
    "matrice_3=np.eye(3)\n",
    "print(matrice_3)"
   ]
  },
  {
   "cell_type": "code",
   "execution_count": 9,
   "metadata": {},
   "outputs": [
    {
     "name": "stdout",
     "output_type": "stream",
     "text": [
      "[1 2 3 4 5 6 7 8] [0 1 2 3 4 5 6 7]\n",
      "[      1       2       9      64     625    7776  117649 2097152]\n"
     ]
    }
   ],
   "source": [
    "npa_5=np.arange(1,9)\n",
    "npa_6=np.arange(0,8)\n",
    "print(npa_5,npa_6)\n",
    "npa_7=npa_6/npa_5\n",
    "npa_8=npa_5**npa_6\n",
    "#print(npa_7)\n",
    "print(npa_8)\n",
    "#In case they have same length they can be added"
   ]
  },
  {
   "cell_type": "code",
   "execution_count": 10,
   "metadata": {},
   "outputs": [
    {
     "name": "stdout",
     "output_type": "stream",
     "text": [
      "[[0.         0.33333333 0.5       ]\n",
      " [0.6        0.66666667 0.71428571]\n",
      " [0.75       0.77777778 0.8       ]]\n",
      "[[ 0  3  8]\n",
      " [15 24 35]\n",
      " [48 63 80]]\n"
     ]
    }
   ],
   "source": [
    "np1=np.arange(0,9).reshape(3,3)\n",
    "np2=np.arange(2,11).reshape(3,3)\n",
    "np3=np1/np2\n",
    "print(np3)\n",
    "#here only the corresponding elements are multiplied\n",
    "np3=np1*np2\n",
    "print(np3)\n",
    "\n",
    "#If we put resize instead of reshape we will get error"
   ]
  },
  {
   "cell_type": "code",
   "execution_count": 11,
   "metadata": {},
   "outputs": [
    {
     "data": {
      "text/plain": [
       "array([[ 21,  24,  27],\n",
       "       [ 66,  78,  90],\n",
       "       [111, 132, 153]])"
      ]
     },
     "execution_count": 11,
     "metadata": {},
     "output_type": "execute_result"
    }
   ],
   "source": [
    "np1=np.arange(0,9).reshape(3,3)\n",
    "np2=np.arange(2,11).reshape(3,3)\n",
    "np_3=np.matmul(np1,np2)\n",
    "np_3"
   ]
  },
  {
   "cell_type": "code",
   "execution_count": 12,
   "metadata": {},
   "outputs": [
    {
     "name": "stdout",
     "output_type": "stream",
     "text": [
      "[ 27  66  78  90 111 132 153]\n"
     ]
    }
   ],
   "source": [
    "print(np_3[np_3>25])\n",
    "#   But the shape is lost\n",
    "#Printing the elments of matrix based on a condition"
   ]
  },
  {
   "cell_type": "code",
   "execution_count": 13,
   "metadata": {},
   "outputs": [
    {
     "name": "stdout",
     "output_type": "stream",
     "text": [
      "[[4 5]]\n"
     ]
    }
   ],
   "source": [
    "print(np1[1:2,1:3]) #retriving a portion of the matrix"
   ]
  },
  {
   "cell_type": "code",
   "execution_count": 14,
   "metadata": {},
   "outputs": [
    {
     "name": "stdout",
     "output_type": "stream",
     "text": [
      "[[0 1 2]\n",
      " [3 0 0]\n",
      " [6 7 8]]\n"
     ]
    }
   ],
   "source": [
    "np1[1:2,1:3]=0.4\n",
    "print(np1)\n",
    "#here all the elments are int therefore the value change to int"
   ]
  },
  {
   "cell_type": "code",
   "execution_count": 15,
   "metadata": {},
   "outputs": [
    {
     "name": "stdout",
     "output_type": "stream",
     "text": [
      "[[4 4]\n",
      " [4 4]\n",
      " [4 4]]\n",
      "[[ 0  1  2  4  4]\n",
      " [ 5  6  7  4  4]\n",
      " [10 11 12  4  4]\n",
      " [15 16 17 18 19]\n",
      " [20 21 22 23 24]]\n"
     ]
    }
   ],
   "source": [
    "matrice=np.arange(0,25).reshape(5,5)\n",
    "sub_mat=matrice[0:3,3:5]\n",
    "sub_mat[:]=4\n",
    "print(sub_mat)\n",
    "print(matrice)\n",
    "#The main matrice also gets changed as we are not making a copy"
   ]
  },
  {
   "cell_type": "code",
   "execution_count": 16,
   "metadata": {},
   "outputs": [
    {
     "name": "stdout",
     "output_type": "stream",
     "text": [
      "[[4 4]\n",
      " [4 4]\n",
      " [4 4]]\n",
      "[[ 0  1  2  3  4]\n",
      " [ 5  6  7  8  9]\n",
      " [10 11 12 13 14]\n",
      " [15 16 17 18 19]\n",
      " [20 21 22 23 24]]\n"
     ]
    }
   ],
   "source": [
    "matrice=np.arange(0,25).reshape(5,5)\n",
    "sub_mat=matrice[0:3,3:5].copy()\n",
    "sub_mat[:]=4\n",
    "print(sub_mat)\n",
    "print(matrice)"
   ]
  },
  {
   "cell_type": "markdown",
   "metadata": {},
   "source": [
    "Pandas"
   ]
  },
  {
   "cell_type": "code",
   "execution_count": 17,
   "metadata": {},
   "outputs": [
    {
     "name": "stdout",
     "output_type": "stream",
     "text": [
      "a    10\n",
      "b    20\n",
      "c    30\n",
      "d    40\n",
      "dtype: int64\n"
     ]
    },
    {
     "data": {
      "text/plain": [
       "10"
      ]
     },
     "execution_count": 17,
     "metadata": {},
     "output_type": "execute_result"
    }
   ],
   "source": [
    "import pandas as pd\n",
    "score=[10,20,30,40]\n",
    "y=pd.Series(data=score,index=[\"a\",\"b\",\"c\",\"d\"]) #pretty much like enumerate function\n",
    "#we are associating a index to a list\n",
    "print(y)\n",
    "y[\"a\"] #We can retrive it based on thr index value"
   ]
  },
  {
   "cell_type": "code",
   "execution_count": 18,
   "metadata": {},
   "outputs": [
    {
     "name": "stdout",
     "output_type": "stream",
     "text": [
      "a    [10, 20]\n",
      "b    [30, 40]\n",
      "dtype: object\n"
     ]
    },
    {
     "data": {
      "text/plain": [
       "[10, 20]"
      ]
     },
     "execution_count": 18,
     "metadata": {},
     "output_type": "execute_result"
    }
   ],
   "source": [
    "import pandas as pd\n",
    "score=[[10,20],[30,40]]\n",
    "y=pd.Series(data=score,index=[\"a\",\"b\"]) #pretty much like enumerate function\n",
    "#we are associating a index to a list\n",
    "print(y)\n",
    "y[\"a\"] #We can retrive it based on thr index value"
   ]
  },
  {
   "cell_type": "code",
   "execution_count": 19,
   "metadata": {},
   "outputs": [
    {
     "name": "stdout",
     "output_type": "stream",
     "text": [
      "   roll_no names  marks\n",
      "a        1     A     90\n",
      "b        2     B     93\n",
      "c        3     C     99\n",
      "d        4     D     97\n"
     ]
    }
   ],
   "source": [
    "#creating a data frame:\n",
    "#series is a single column and data frams is multiple column\n",
    "#key: column name, value =list of values\n",
    "data={\"roll_no\":[1,2,3,4],\"names\":[\"A\",\"B\",\"C\",\"D\"],\"marks\":[90,93,99,97]}\n",
    "data=pd.DataFrame(data,index=[\"a\",\"b\",\"c\",\"d\"])\n",
    "print(data)"
   ]
  },
  {
   "cell_type": "code",
   "execution_count": 20,
   "metadata": {},
   "outputs": [
    {
     "name": "stdout",
     "output_type": "stream",
     "text": [
      "   roll_no names  marks\n",
      "a        1     A     90\n",
      "b        2     B     93\n",
      "c        3     C     99\n"
     ]
    }
   ],
   "source": [
    "print(data.loc[\"a\":\"c\"])"
   ]
  },
  {
   "cell_type": "code",
   "execution_count": 29,
   "metadata": {},
   "outputs": [
    {
     "name": "stdout",
     "output_type": "stream",
     "text": [
      "   roll_no\n",
      "0        1\n",
      "1        2\n"
     ]
    }
   ],
   "source": [
    "print(data.iloc[0:2,0:1])\n",
    "#First 2 rows ,first column"
   ]
  },
  {
   "cell_type": "code",
   "execution_count": 22,
   "metadata": {},
   "outputs": [
    {
     "name": "stdout",
     "output_type": "stream",
     "text": [
      "   roll_no names  marks\n",
      "0        1     A     90\n",
      "1        2     B     93\n",
      "2        3     C     99\n"
     ]
    }
   ],
   "source": [
    "data={\"roll_no\":[1,2,3,4],\"names\":[\"A\",\"B\",\"C\",\"D\"],\"marks\":[90,93,99,97]}\n",
    "data=pd.DataFrame(data)\n",
    "print(data.loc[0:2])"
   ]
  }
 ],
 "metadata": {
  "kernelspec": {
   "display_name": "base",
   "language": "python",
   "name": "python3"
  },
  "language_info": {
   "codemirror_mode": {
    "name": "ipython",
    "version": 3
   },
   "file_extension": ".py",
   "mimetype": "text/x-python",
   "name": "python",
   "nbconvert_exporter": "python",
   "pygments_lexer": "ipython3",
   "version": "3.11.4"
  },
  "orig_nbformat": 4
 },
 "nbformat": 4,
 "nbformat_minor": 2
}
