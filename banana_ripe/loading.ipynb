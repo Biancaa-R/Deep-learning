{
 "cells": [
  {
   "cell_type": "code",
   "execution_count": 4,
   "metadata": {},
   "outputs": [],
   "source": [
    "from ultralytics import YOLO"
   ]
  },
  {
   "cell_type": "code",
   "execution_count": 7,
   "metadata": {},
   "outputs": [],
   "source": [
    "trained_model = YOLO(\"C:/Users/Biancaa. R/Downloads/banana_ripe/runs/classify/train/weights/last.pt\")"
   ]
  },
  {
   "cell_type": "code",
   "execution_count": 37,
   "metadata": {},
   "outputs": [
    {
     "name": "stdout",
     "output_type": "stream",
     "text": [
      "\n",
      "image 1/1 C:\\Users\\Biancaa. R\\Downloads\\banana_ripe\\istockphoto-539370180-612x612.jpg: 224x224 rotten 0.98, overripe 0.02, ripe 0.00, unripe 0.00, 13.0ms\n",
      "Speed: 4.0ms preprocess, 13.0ms inference, 0.0ms postprocess per image at shape (1, 3, 224, 224)\n",
      "[[[255 255 255]\n",
      "  [255 255 255]\n",
      "  [255 255 255]\n",
      "  ...\n",
      "  [255 255 255]\n",
      "  [255 255 255]\n",
      "  [255 255 255]]\n",
      "\n",
      " [[255 255 255]\n",
      "  [255 255 255]\n",
      "  [255 255 255]\n",
      "  ...\n",
      "  [255 255 255]\n",
      "  [255 255 255]\n",
      "  [255 255 255]]\n",
      "\n",
      " [[255 255 255]\n",
      "  [255 255 255]\n",
      "  [255 255 255]\n",
      "  ...\n",
      "  [255 255 255]\n",
      "  [255 255 255]\n",
      "  [255 255 255]]\n",
      "\n",
      " ...\n",
      "\n",
      " [[255 255 255]\n",
      "  [255 255 255]\n",
      "  [255 255 255]\n",
      "  ...\n",
      "  [255 255 255]\n",
      "  [255 255 255]\n",
      "  [255 255 255]]\n",
      "\n",
      " [[255 255 255]\n",
      "  [255 255 255]\n",
      "  [255 255 255]\n",
      "  ...\n",
      "  [255 255 255]\n",
      "  [255 255 255]\n",
      "  [255 255 255]]\n",
      "\n",
      " [[255 255 255]\n",
      "  [255 255 255]\n",
      "  [255 255 255]\n",
      "  ...\n",
      "  [255 255 255]\n",
      "  [255 255 255]\n",
      "  [255 255 255]]]\n"
     ]
    }
   ],
   "source": [
    "# import h5py\n",
    "# f = h5py.File('my_model.h5', \"r\")\n",
    "#out = trained_model.predict(list(uploaded.keys())[0],save=True)\n",
    "from ultralytics import YOLO\n",
    "import cv2\n",
    "import numpy as np\n",
    "\n",
    "# Define path to the image file\n",
    "#source = 'C:/Users/Biancaa. R/Downloads/banana_ripe/runs/classify/train2/train_batch1.jpg'\n",
    "source=\"C://Users//Biancaa. R//Downloads//banana_ripe//istockphoto-539370180-612x612.jpg\"\n",
    "\n",
    "# Run inference on the source\n",
    "results = trained_model(source)  # list of Results objects\n",
    "results[0].show()\n",
    "annotated_frame = results[0].plot()\n",
    "print(annotated_frame)\n",
    "\n",
    "# # Convert PIL image to NumPy array\n",
    "# annotated_frame_np = cv2.cvtColor(np.array(annotated_frame), cv2.COLOR_RGB2BGR)\n",
    "\n",
    "# # Display annotated frame\n",
    "# cv2.imshow(\"YOLOv5 Inference\", annotated_frame_np)\n",
    "# cv2.waitKey(0)\n",
    "# cv2.destroyAllWindows()\n",
    "\n",
    "# import PIL\n",
    "# img=PIL.Image.fromarray(annotated_frame)\n",
    "# cv2.imshow(\"YOLOv8 Inference\", img[1])\n",
    "# # View results\n",
    "# for r in results:\n",
    "#     print(r.obb)  # print the Boxes object containing the detection bounding boxes"
   ]
  }
 ],
 "metadata": {
  "kernelspec": {
   "display_name": "base",
   "language": "python",
   "name": "python3"
  },
  "language_info": {
   "codemirror_mode": {
    "name": "ipython",
    "version": 3
   },
   "file_extension": ".py",
   "mimetype": "text/x-python",
   "name": "python",
   "nbconvert_exporter": "python",
   "pygments_lexer": "ipython3",
   "version": "3.11.4"
  }
 },
 "nbformat": 4,
 "nbformat_minor": 2
}
